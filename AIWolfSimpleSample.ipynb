{
  "nbformat": 4,
  "nbformat_minor": 0,
  "metadata": {
    "colab": {
      "name": "Untitled0.ipynb",
      "version": "0.3.2",
      "provenance": []
    },
    "kernelspec": {
      "name": "python3",
      "display_name": "Python 3"
    }
  },
  "cells": [
    {
      "cell_type": "markdown",
      "metadata": {
        "id": "view-in-github",
        "colab_type": "text"
      },
      "source": [
        "[View in Colaboratory](https://colab.research.google.com/github/tomofu74/colaboratory/blob/master/AIWolfSimpleSample.ipynb)"
      ]
    },
    {
      "metadata": {
        "id": "EBHd1eBRSFSV",
        "colab_type": "code",
        "colab": {}
      },
      "cell_type": "code",
      "source": [
        "#!/usr/bin/env python\n",
        "from __future__ import print_function, division \n",
        "\n",
        "# this is main script\n",
        "# simple version\n",
        "\n",
        "import aiwolfpy\n",
        "import aiwolfpy.contentbuilder as cb\n",
        "\n",
        "myname = 'cash'\n",
        "\n",
        "class SampleAgent(object):\n",
        "    \n",
        "    def __init__(self, agent_name):\n",
        "        # myname\n",
        "        self.myname = agent_name\n",
        "        \n",
        "        \n",
        "    def getName(self):\n",
        "        return self.myname\n",
        "    \n",
        "    def initialize(self, base_info, diff_data, game_setting):\n",
        "        self.base_info = base_info\n",
        "        # game_setting\n",
        "        self.game_setting = game_setting\n",
        "        # print(base_info)\n",
        "        # print(diff_data)\n",
        "        \n",
        "    def update(self, base_info, diff_data, request):\n",
        "        self.base_info = base_info\n",
        "        # print(base_info)\n",
        "        # print(diff_data)\n",
        "        \n",
        "    def dayStart(self):\n",
        "        return None\n",
        "    \n",
        "    def talk(self):\n",
        "        return cb.over()\n",
        "    \n",
        "    def whisper(self):\n",
        "        return cb.over()\n",
        "        \n",
        "    def vote(self):\n",
        "        return self.base_info['agentIdx']\n",
        "    \n",
        "    def attack(self):\n",
        "        return self.base_info['agentIdx']\n",
        "    \n",
        "    def divine(self):\n",
        "        return self.base_info['agentIdx']\n",
        "    \n",
        "    def guard(self):\n",
        "        return self.base_info['agentIdx']\n",
        "    \n",
        "    def finish(self):\n",
        "        return None\n",
        "    \n",
        "\n",
        "\n",
        "agent = SampleAgent(myname)\n",
        "    \n",
        "\n",
        "\n",
        "# run\n",
        "if __name__ == '__main__':\n",
        "    aiwolfpy.connect_parse(agent)\n",
        "    "
      ],
      "execution_count": 0,
      "outputs": []
    }
  ]
}